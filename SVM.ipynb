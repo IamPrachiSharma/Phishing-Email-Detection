{
  "nbformat": 4,
  "nbformat_minor": 0,
  "metadata": {
    "colab": {
      "provenance": [],
      "authorship_tag": "ABX9TyOCa0Vts4NukuZfg/oNv9X5",
      "include_colab_link": true
    },
    "kernelspec": {
      "name": "python3",
      "display_name": "Python 3"
    },
    "language_info": {
      "name": "python"
    }
  },
  "cells": [
    {
      "cell_type": "markdown",
      "metadata": {
        "id": "view-in-github",
        "colab_type": "text"
      },
      "source": [
        "<a href=\"https://colab.research.google.com/github/IamPrachiSharma/Phishing-Email-Detection/blob/main/SVM.ipynb\" target=\"_parent\"><img src=\"https://colab.research.google.com/assets/colab-badge.svg\" alt=\"Open In Colab\"/></a>"
      ]
    },
    {
      "cell_type": "markdown",
      "source": [
        "TF-IDF (Term Frequency-Inverse Document Frequency) vectors as features and a classifier (such as Support Vector Machine)"
      ],
      "metadata": {
        "id": "ExYdsyD1uYd5"
      }
    },
    {
      "cell_type": "code",
      "source": [
        "import pandas as pd\n",
        "from sklearn.model_selection import train_test_split\n",
        "from sklearn.feature_extraction.text import TfidfVectorizer\n",
        "from sklearn.svm import SVC\n",
        "from sklearn.metrics import accuracy_score, confusion_matrix, classification_report\n",
        "from sklearn.preprocessing import LabelEncoder\n",
        "\n",
        "# Load your dataset\n",
        "data = pd.read_csv('Phishing_Email.csv')\n",
        "\n",
        "# Drop rows with NaN values in 'email_text' column\n",
        "data = data.dropna(subset=['Email Text'])\n",
        "\n",
        "# Split the dataset into training and testing sets\n",
        "train_data, test_data, train_labels, test_labels = train_test_split(data['Email Text'], data['Email Type'], test_size=0.2, random_state=42)\n",
        "\n",
        "# Encode labels using LabelEncoder\n",
        "label_encoder = LabelEncoder()\n",
        "train_labels_encoded = label_encoder.fit_transform(train_labels)\n",
        "test_labels_encoded = label_encoder.transform(test_labels)\n",
        "\n",
        "# Convert text data to TF-IDF vectors\n",
        "vectorizer = TfidfVectorizer(max_features=1000, stop_words='english')\n",
        "X_train = vectorizer.fit_transform(train_data)\n",
        "X_test = vectorizer.transform(test_data)\n",
        "\n",
        "# Train a Support Vector Machine (SVM) classifier\n",
        "classifier = SVC(kernel='linear')\n",
        "classifier.fit(X_train, train_labels_encoded)\n",
        "\n",
        "# Predictions on the test set\n",
        "predictions = classifier.predict(X_test)\n",
        "\n",
        "# Evaluate the model\n",
        "accuracy = accuracy_score(test_labels_encoded, predictions)\n",
        "conf_matrix = confusion_matrix(test_labels_encoded, predictions)\n",
        "class_report = classification_report(test_labels_encoded, predictions)\n",
        "\n",
        "# Display the results\n",
        "print(f'Accuracy: {accuracy:.2f}')\n",
        "print(\"\\nConfusion Matrix:\")\n",
        "print(conf_matrix)\n",
        "print(\"\\nClassification Report:\")\n",
        "print(class_report)\n"
      ],
      "metadata": {
        "colab": {
          "base_uri": "https://localhost:8080/"
        },
        "id": "VvOigD8JT2xi",
        "outputId": "0cd8ac2b-878d-42a3-8728-24c9d99e1bda"
      },
      "execution_count": 15,
      "outputs": [
        {
          "output_type": "stream",
          "name": "stdout",
          "text": [
            "Accuracy: 0.95\n",
            "\n",
            "Confusion Matrix:\n",
            "[[1461   57]\n",
            " [ 142 2067]]\n",
            "\n",
            "Classification Report:\n",
            "              precision    recall  f1-score   support\n",
            "\n",
            "           0       0.91      0.96      0.94      1518\n",
            "           1       0.97      0.94      0.95      2209\n",
            "\n",
            "    accuracy                           0.95      3727\n",
            "   macro avg       0.94      0.95      0.95      3727\n",
            "weighted avg       0.95      0.95      0.95      3727\n",
            "\n"
          ]
        }
      ]
    }
  ]
}