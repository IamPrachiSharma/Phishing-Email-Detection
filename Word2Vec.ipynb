{
  "nbformat": 4,
  "nbformat_minor": 0,
  "metadata": {
    "colab": {
      "provenance": [],
      "authorship_tag": "ABX9TyPy/PoLUia1qmROUUvDVubu",
      "include_colab_link": true
    },
    "kernelspec": {
      "name": "python3",
      "display_name": "Python 3"
    },
    "language_info": {
      "name": "python"
    }
  },
  "cells": [
    {
      "cell_type": "markdown",
      "metadata": {
        "id": "view-in-github",
        "colab_type": "text"
      },
      "source": [
        "<a href=\"https://colab.research.google.com/github/IamPrachiSharma/Phishing-Email-Detection/blob/main/Word2Vec.ipynb\" target=\"_parent\"><img src=\"https://colab.research.google.com/assets/colab-badge.svg\" alt=\"Open In Colab\"/></a>"
      ]
    },
    {
      "cell_type": "code",
      "execution_count": 6,
      "metadata": {
        "id": "OePZ2eHaDDiF",
        "colab": {
          "base_uri": "https://localhost:8080/"
        },
        "outputId": "7a13a819-8c47-4a3c-9f00-c2bb7157bb43"
      },
      "outputs": [
        {
          "output_type": "stream",
          "name": "stdout",
          "text": [
            "Epoch 1/5\n",
            "373/373 [==============================] - 4s 10ms/step - loss: 0.2951 - accuracy: 0.8807 - val_loss: 0.2036 - val_accuracy: 0.9188\n",
            "Epoch 2/5\n",
            "373/373 [==============================] - 3s 9ms/step - loss: 0.1043 - accuracy: 0.9598 - val_loss: 0.2147 - val_accuracy: 0.9131\n",
            "Epoch 3/5\n",
            "373/373 [==============================] - 4s 11ms/step - loss: 0.0479 - accuracy: 0.9814 - val_loss: 0.2240 - val_accuracy: 0.9222\n",
            "Epoch 4/5\n",
            "373/373 [==============================] - 3s 9ms/step - loss: 0.0307 - accuracy: 0.9862 - val_loss: 0.2633 - val_accuracy: 0.9212\n",
            "Epoch 5/5\n",
            "373/373 [==============================] - 3s 9ms/step - loss: 0.0264 - accuracy: 0.9879 - val_loss: 0.3271 - val_accuracy: 0.9165\n",
            "117/117 [==============================] - 0s 3ms/step\n",
            "Accuracy: 0.92\n",
            "\n",
            "Confusion Matrix:\n",
            "[[1354  164]\n",
            " [ 144 2065]]\n",
            "\n",
            "Classification Report:\n",
            "              precision    recall  f1-score   support\n",
            "\n",
            "           0       0.90      0.89      0.90      1518\n",
            "           1       0.93      0.93      0.93      2209\n",
            "\n",
            "    accuracy                           0.92      3727\n",
            "   macro avg       0.92      0.91      0.91      3727\n",
            "weighted avg       0.92      0.92      0.92      3727\n",
            "\n"
          ]
        }
      ],
      "source": [
        "import pandas as pd\n",
        "import numpy as np  # Add this line\n",
        "from sklearn.model_selection import train_test_split\n",
        "from gensim.models import Word2Vec\n",
        "from tensorflow.keras.models import Sequential\n",
        "from tensorflow.keras.layers import Embedding, Flatten, Dense\n",
        "from tensorflow.keras.preprocessing.text import Tokenizer\n",
        "from tensorflow.keras.preprocessing.sequence import pad_sequences\n",
        "from sklearn.preprocessing import LabelEncoder\n",
        "from sklearn.metrics import accuracy_score, confusion_matrix, classification_report\n",
        "\n",
        "# Load your dataset\n",
        "data = pd.read_csv('Phishing_Email.csv')\n",
        "\n",
        "# Drop rows with NaN values in 'email_text' column\n",
        "data = data.dropna(subset=['Email Text'])\n",
        "\n",
        "# Split the dataset into training and testing sets\n",
        "train_data, test_data, train_labels, test_labels = train_test_split(data['Email Text'], data['Email Type'], test_size=0.2, random_state=42)\n",
        "\n",
        "# Tokenize and pad the text data\n",
        "tokenizer = Tokenizer()\n",
        "tokenizer.fit_on_texts(train_data)\n",
        "X_train = pad_sequences(tokenizer.texts_to_sequences(train_data), maxlen=100)\n",
        "X_test = pad_sequences(tokenizer.texts_to_sequences(test_data), maxlen=100)\n",
        "\n",
        "# Encode labels using LabelEncoder\n",
        "label_encoder = LabelEncoder()\n",
        "train_labels_encoded = label_encoder.fit_transform(train_labels)\n",
        "test_labels_encoded = label_encoder.transform(test_labels)\n",
        "\n",
        "# Train Word2Vec embeddings on the training data\n",
        "word2vec_model = Word2Vec(sentences=train_data.apply(lambda x: x.split()), vector_size=100, window=5, min_count=1, workers=4)\n",
        "\n",
        "# Create an embedding matrix\n",
        "embedding_matrix = np.zeros((len(tokenizer.word_index) + 1, 100))\n",
        "for word, i in tokenizer.word_index.items():\n",
        "    if word in word2vec_model.wv:\n",
        "        embedding_matrix[i] = word2vec_model.wv[word]\n",
        "\n",
        "# Build a neural network model\n",
        "model = Sequential()\n",
        "model.add(Embedding(input_dim=len(tokenizer.word_index) + 1, output_dim=100, input_length=100, weights=[embedding_matrix], trainable=False))\n",
        "model.add(Flatten())\n",
        "model.add(Dense(64, activation='relu'))\n",
        "model.add(Dense(1, activation='sigmoid'))\n",
        "\n",
        "# Compile the model\n",
        "model.compile(optimizer='adam', loss='binary_crossentropy', metrics=['accuracy'])\n",
        "\n",
        "# Train the model\n",
        "model.fit(X_train, train_labels_encoded, epochs=5, batch_size=32, validation_split=0.2)\n",
        "\n",
        "# Evaluate the model on the test set\n",
        "predictions = (model.predict(X_test) > 0.5).astype(int).flatten()\n",
        "\n",
        "# Evaluate the model\n",
        "accuracy = accuracy_score(test_labels_encoded, predictions)\n",
        "conf_matrix = confusion_matrix(test_labels_encoded, predictions)\n",
        "class_report = classification_report(test_labels_encoded, predictions)\n",
        "\n",
        "# Display the results\n",
        "print(f'Accuracy: {accuracy:.2f}')\n",
        "print(\"\\nConfusion Matrix:\")\n",
        "print(conf_matrix)\n",
        "print(\"\\nClassification Report:\")\n",
        "print(class_report)\n"
      ]
    }
  ]
}