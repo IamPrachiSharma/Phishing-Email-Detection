{
  "nbformat": 4,
  "nbformat_minor": 0,
  "metadata": {
    "colab": {
      "provenance": [],
      "authorship_tag": "ABX9TyP529BfjTjGSKtNFkZCE0F7",
      "include_colab_link": true
    },
    "kernelspec": {
      "name": "python3",
      "display_name": "Python 3"
    },
    "language_info": {
      "name": "python"
    }
  },
  "cells": [
    {
      "cell_type": "markdown",
      "metadata": {
        "id": "view-in-github",
        "colab_type": "text"
      },
      "source": [
        "<a href=\"https://colab.research.google.com/github/IamPrachiSharma/Phishing-Email-Detection/blob/main/Bag-of-Words.ipynb\" target=\"_parent\"><img src=\"https://colab.research.google.com/assets/colab-badge.svg\" alt=\"Open In Colab\"/></a>"
      ]
    },
    {
      "cell_type": "markdown",
      "source": [
        "Bag-of-Words model with a machine learning classifier."
      ],
      "metadata": {
        "id": "-5UOSX9o-BAp"
      }
    },
    {
      "cell_type": "code",
      "source": [
        "import pandas as pd\n",
        "from sklearn.model_selection import train_test_split\n",
        "from sklearn.feature_extraction.text import CountVectorizer\n",
        "from sklearn.ensemble import RandomForestClassifier\n",
        "from sklearn.metrics import accuracy_score, confusion_matrix, classification_report\n",
        "\n",
        "# Load your dataset\n",
        "data = pd.read_csv('Phishing_Email.csv')\n",
        "\n",
        "# Drop rows with NaN values in 'email_text' column\n",
        "data = data.dropna(subset=['Email Text'])\n",
        "\n",
        "# Split the dataset into training and testing sets\n",
        "train_data, test_data, train_labels, test_labels = train_test_split(data['Email Text'], data['Email Type'], test_size=0.2, random_state=42)\n",
        "\n",
        "# Create a bag-of-words model\n",
        "vectorizer = CountVectorizer()\n",
        "X_train = vectorizer.fit_transform(train_data)\n",
        "X_test = vectorizer.transform(test_data)\n",
        "\n",
        "# Train a Random Forest classifier\n",
        "classifier = RandomForestClassifier()\n",
        "classifier.fit(X_train, train_labels)\n",
        "\n",
        "# Make predictions on the test set\n",
        "predictions = classifier.predict(X_test)\n",
        "\n",
        "# Evaluate the model\n",
        "accuracy = accuracy_score(test_labels, predictions)\n",
        "conf_matrix = confusion_matrix(test_labels, predictions)\n",
        "class_report = classification_report(test_labels, predictions)\n",
        "\n",
        "# Display the results\n",
        "print(f'Accuracy: {accuracy:.2f}')\n",
        "print(\"\\nConfusion Matrix:\")\n",
        "print(conf_matrix)\n",
        "print(\"\\nClassification Report:\")\n",
        "print(class_report)\n"
      ],
      "metadata": {
        "id": "yT7ekEXk9f4s",
        "outputId": "75971663-1c0c-42fe-9c9c-52aad1798ac3",
        "colab": {
          "base_uri": "https://localhost:8080/"
        }
      },
      "execution_count": null,
      "outputs": [
        {
          "output_type": "stream",
          "name": "stdout",
          "text": [
            "Accuracy: 0.96\n",
            "\n",
            "Confusion Matrix:\n",
            "[[1437   81]\n",
            " [  78 2131]]\n",
            "\n",
            "Classification Report:\n",
            "                precision    recall  f1-score   support\n",
            "\n",
            "Phishing Email       0.95      0.95      0.95      1518\n",
            "    Safe Email       0.96      0.96      0.96      2209\n",
            "\n",
            "      accuracy                           0.96      3727\n",
            "     macro avg       0.96      0.96      0.96      3727\n",
            "  weighted avg       0.96      0.96      0.96      3727\n",
            "\n"
          ]
        }
      ]
    }
  ]
}