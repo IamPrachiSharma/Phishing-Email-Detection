{
  "cells": [
    {
      "cell_type": "markdown",
      "metadata": {
        "id": "view-in-github",
        "colab_type": "text"
      },
      "source": [
        "<a href=\"https://colab.research.google.com/github/IamPrachiSharma/Phishing-Email-Detection/blob/main/Untitled12.ipynb\" target=\"_parent\"><img src=\"https://colab.research.google.com/assets/colab-badge.svg\" alt=\"Open In Colab\"/></a>"
      ]
    },
    {
      "cell_type": "markdown",
      "source": [
        "VADER ANALYSIS"
      ],
      "metadata": {
        "id": "0la4_p9iPQSW"
      }
    },
    {
      "cell_type": "code",
      "execution_count": 12,
      "metadata": {
        "id": "2e48DE9OAODt"
      },
      "outputs": [],
      "source": [
        "import pandas as pd\n",
        "from nltk.sentiment.vader import SentimentIntensityAnalyzer\n",
        "\n",
        "# Load the dataset\n",
        "data = pd.read_csv('Phishing_Email.csv')\n",
        "\n",
        "# Create an instance of SentimentIntensityAnalyzer\n",
        "analyzer = SentimentIntensityAnalyzer()\n",
        "\n",
        "# Add sentiment scores to the dataset\n",
        "for index, row in data.iterrows():\n",
        "    sentiment_scores = analyzer.polarity_scores(row['Email Type'])\n",
        "    data.loc[index, 'compound'] = sentiment_scores.get('compound', None)\n",
        "    data.loc[index, 'neg'] = sentiment_scores.get('neg', 0)\n",
        "    data.loc[index, 'neu'] = sentiment_scores.get('neu', 0)\n",
        "    data.loc[index, 'pos'] = sentiment_scores.get('pos', 0)\n",
        "\n",
        "# Save the updated dataset\n",
        "data.to_csv('your_dataset_with_sentiment_scores.csv', index=False)"
      ]
    },
    {
      "cell_type": "markdown",
      "source": [
        "TEXTBLOB"
      ],
      "metadata": {
        "id": "BaV_chfHP5Np"
      }
    },
    {
      "cell_type": "code",
      "source": [
        "import pandas as pd\n",
        "from textblob import TextBlob\n",
        "\n",
        "# Load the dataset from a CSV file\n",
        "data = pd.read_csv('Phishing_Email.csv')\n",
        "\n",
        "# Define a function to calculate sentiment scores\n",
        "def calculate_sentiment(text):\n",
        "    blob = TextBlob(text)\n",
        "    sentiment = blob.sentiment\n",
        "    return sentiment.polarity, sentiment.subjectivity\n",
        "\n",
        "# Apply the function to the 'text' column\n",
        "data['sentiment_scores'] = data['Email Type'].apply(calculate_sentiment)\n",
        "\n",
        "# Unpack the sentiment scores into separate columns\n",
        "data[['polarity', 'subjectivity']] = pd.DataFrame(data['sentiment_scores'].tolist(), columns=['polarity', 'subjectivity'])\n",
        "\n",
        "# Save the updated dataset to a new CSV file\n",
        "data.to_csv('your_dataset_with_sentiment_scores_textblob.csv', index=False)"
      ],
      "metadata": {
        "id": "GC26E2czLP7s"
      },
      "execution_count": 19,
      "outputs": []
    }
  ],
  "metadata": {
    "colab": {
      "provenance": [],
      "authorship_tag": "ABX9TyMOb7PZeW/tswKZKm0j349y",
      "include_colab_link": true
    },
    "kernelspec": {
      "display_name": "Python 3",
      "name": "python3"
    },
    "language_info": {
      "name": "python"
    }
  },
  "nbformat": 4,
  "nbformat_minor": 0
}