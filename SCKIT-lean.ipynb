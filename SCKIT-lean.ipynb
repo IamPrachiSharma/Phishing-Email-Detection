{
  "nbformat": 4,
  "nbformat_minor": 0,
  "metadata": {
    "colab": {
      "provenance": [],
      "authorship_tag": "ABX9TyNQaE9Yz904MpUDZRZQubxA",
      "include_colab_link": true
    },
    "kernelspec": {
      "name": "python3",
      "display_name": "Python 3"
    },
    "language_info": {
      "name": "python"
    }
  },
  "cells": [
    {
      "cell_type": "markdown",
      "metadata": {
        "id": "view-in-github",
        "colab_type": "text"
      },
      "source": [
        "<a href=\"https://colab.research.google.com/github/IamPrachiSharma/Phishing-Email-Detection/blob/main/SCKIT-lean.ipynb\" target=\"_parent\"><img src=\"https://colab.research.google.com/assets/colab-badge.svg\" alt=\"Open In Colab\"/></a>"
      ]
    },
    {
      "cell_type": "markdown",
      "source": [
        "SCKIT-LEARN"
      ],
      "metadata": {
        "id": "zuLCbuH-vTV8"
      }
    },
    {
      "cell_type": "code",
      "source": [
        "import pandas as pd\n",
        "from sklearn.model_selection import train_test_split\n",
        "from sklearn.feature_extraction.text import CountVectorizer\n",
        "from sklearn.naive_bayes import MultinomialNB\n",
        "from sklearn.metrics import accuracy_score, classification_report\n",
        "\n",
        "# Load your dataset\n",
        "# Replace 'your_dataset.csv' with the actual file name or path\n",
        "df = pd.read_csv('Phishing_Email.csv')\n",
        "\n",
        "# Handle missing values (replace NaN with an empty string)\n",
        "df['Email Text'].fillna('', inplace=True)\n",
        "\n",
        "# Split the dataset into training and testing sets\n",
        "train_data, test_data, train_labels, test_labels = train_test_split(df['Email Text'], df['Email Type'], test_size=0.2, random_state=42)\n",
        "\n",
        "# Create a bag-of-words model\n",
        "vectorizer = CountVectorizer()\n",
        "X_train = vectorizer.fit_transform(train_data)\n",
        "X_test = vectorizer.transform(test_data)\n",
        "\n",
        "# Train a Multinomial Naive Bayes classifier\n",
        "classifier = MultinomialNB()\n",
        "classifier.fit(X_train, train_labels)\n",
        "\n",
        "# Make predictions on the test set\n",
        "predictions = classifier.predict(X_test)\n",
        "\n",
        "# Evaluate the model\n",
        "accuracy = accuracy_score(test_labels, predictions)\n",
        "print(f'Accuracy: {accuracy:.2f}')\n",
        "\n",
        "# Display classification report\n",
        "print(classification_report(test_labels, predictions))\n"
      ],
      "metadata": {
        "id": "_H00c40gsE6M",
        "outputId": "6b07daa0-f593-4063-fe93-fed4db2d6a86",
        "colab": {
          "base_uri": "https://localhost:8080/"
        }
      },
      "execution_count": null,
      "outputs": [
        {
          "output_type": "stream",
          "name": "stdout",
          "text": [
            "Accuracy: 0.97\n",
            "                precision    recall  f1-score   support\n",
            "\n",
            "Phishing Email       0.95      0.97      0.96      1457\n",
            "    Safe Email       0.98      0.97      0.97      2273\n",
            "\n",
            "      accuracy                           0.97      3730\n",
            "     macro avg       0.96      0.97      0.96      3730\n",
            "  weighted avg       0.97      0.97      0.97      3730\n",
            "\n"
          ]
        }
      ]
    }
  ]
}